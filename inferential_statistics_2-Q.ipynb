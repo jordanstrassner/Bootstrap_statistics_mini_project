{
  "cells": [
    {
      "metadata": {},
      "cell_type": "markdown",
      "source": "# Inferential statistics II - Bootstrapping"
    },
    {
      "metadata": {},
      "cell_type": "markdown",
      "source": "## Introduction"
    },
    {
      "metadata": {},
      "cell_type": "markdown",
      "source": "In the previous frequentist mini-projects, you did frequentist calculations to perform inference from a sample of data. Such inference relies on theory largely developed from the 19th-Century onwards that is subject to certain assumptions or theoretical limits. These are fine if those assumptions hold for the particular case you're working on, and what you want to do has a known theoretical distribution (for example the mean of a sampling distribution that we looked at in the previous mini-project.)"
    },
    {
      "metadata": {},
      "cell_type": "markdown",
      "source": "In this mini-project, you'll use the same medical charge data you used in the frequentist inference mini-project, but this time you'll make inferences about the population using bootstrapping (ie. simulating repeated re-runs of an experiment.) If frequentism is about using assumptions and theoretical results to calculate what we expect to happen were an experiment to be run again and again and again, then bootstrapping is about using computing power to essentially re-run the sample draw again and again and again to see what actually happens."
    },
    {
      "metadata": {},
      "cell_type": "markdown",
      "source": "## Prerequisites"
    },
    {
      "metadata": {},
      "cell_type": "markdown",
      "source": "While these exercises do not strictly depend on these concepts, we encourage you to complete the previous mini-projects before starting this one so that you can approach this assignment with a good understanding of frequentist concepts like:\n* the _z_-statistic\n* the _t_-statistic\n* the difference and relationship between the two\n* the Central Limit Theorem, its assumptions and consequences\n* how to estimate the population mean and standard deviation from a sample\n* the concept of a sampling distribution of a test statistic, particularly for the mean\n* how to combine these concepts to calculate confidence intervals and p-values\n* how those confidence intervals and p-values allow you to perform hypothesis (or A/B) tests"
    },
    {
      "metadata": {},
      "cell_type": "markdown",
      "source": "To complete mini-project, it's important that you first complete the bootstrap resources listed in this subunit, as they contain valuable information about how to calculate bootstrap replicates of summary statistics. Having an basic understanding of what confidence intervals and p-values are will also be helpful (we touch on them in this mini-project, but please speak to your mentor or conduct individual research if you'd like to learn more.) "
    },
    {
      "metadata": {
        "trusted": true
      },
      "cell_type": "code",
      "source": "import pandas as pd\nimport numpy as np\nfrom numpy.random import seed\nimport matplotlib.pyplot as plt",
      "execution_count": 2,
      "outputs": []
    },
    {
      "metadata": {},
      "cell_type": "markdown",
      "source": "## Medical charge data set"
    },
    {
      "metadata": {
        "trusted": true
      },
      "cell_type": "code",
      "source": "med_charges = pd.read_csv('data/insurance2.csv')",
      "execution_count": 6,
      "outputs": []
    },
    {
      "metadata": {
        "trusted": true
      },
      "cell_type": "code",
      "source": "med_charges.head()",
      "execution_count": 7,
      "outputs": [
        {
          "output_type": "execute_result",
          "execution_count": 7,
          "data": {
            "text/html": "<div>\n<table border=\"1\" class=\"dataframe\">\n  <thead>\n    <tr style=\"text-align: right;\">\n      <th></th>\n      <th>age</th>\n      <th>sex</th>\n      <th>bmi</th>\n      <th>children</th>\n      <th>smoker</th>\n      <th>region</th>\n      <th>charges</th>\n      <th>insuranceclaim</th>\n    </tr>\n  </thead>\n  <tbody>\n    <tr>\n      <th>0</th>\n      <td>19</td>\n      <td>0</td>\n      <td>27.900</td>\n      <td>0</td>\n      <td>1</td>\n      <td>3</td>\n      <td>16884.92400</td>\n      <td>1</td>\n    </tr>\n    <tr>\n      <th>1</th>\n      <td>18</td>\n      <td>1</td>\n      <td>33.770</td>\n      <td>1</td>\n      <td>0</td>\n      <td>2</td>\n      <td>1725.55230</td>\n      <td>1</td>\n    </tr>\n    <tr>\n      <th>2</th>\n      <td>28</td>\n      <td>1</td>\n      <td>33.000</td>\n      <td>3</td>\n      <td>0</td>\n      <td>2</td>\n      <td>4449.46200</td>\n      <td>0</td>\n    </tr>\n    <tr>\n      <th>3</th>\n      <td>33</td>\n      <td>1</td>\n      <td>22.705</td>\n      <td>0</td>\n      <td>0</td>\n      <td>1</td>\n      <td>21984.47061</td>\n      <td>0</td>\n    </tr>\n    <tr>\n      <th>4</th>\n      <td>32</td>\n      <td>1</td>\n      <td>28.880</td>\n      <td>0</td>\n      <td>0</td>\n      <td>1</td>\n      <td>3866.85520</td>\n      <td>1</td>\n    </tr>\n  </tbody>\n</table>\n</div>",
            "text/plain": "   age  sex     bmi  children  smoker  region      charges  insuranceclaim\n0   19    0  27.900         0       1       3  16884.92400               1\n1   18    1  33.770         1       0       2   1725.55230               1\n2   28    1  33.000         3       0       2   4449.46200               0\n3   33    1  22.705         0       0       1  21984.47061               0\n4   32    1  28.880         0       0       1   3866.85520               1"
          },
          "metadata": {}
        }
      ]
    },
    {
      "metadata": {},
      "cell_type": "markdown",
      "source": "In the previous assignment, you used the frequentist approach to estimate the lower limit for the 95% confidence interval on the mean hospital charge. This approach relies on statistical theory that has been developed over the years and is also limited to statistics for which theoretical results on the sampling distribution exist. These results are remarkably useful and applicable much of the time and under a surprisingly wide range of conditions."
    },
    {
      "metadata": {},
      "cell_type": "markdown",
      "source": "Having calculated the 95% lower confidence interval using frequentist theory in the previous exercise, you'll now use bootstrap inference to verify your calculations and check that you get consistent results without making the assumptions required before. After all, the distribution of charges really was very non-normal."
    },
    {
      "metadata": {},
      "cell_type": "markdown",
      "source": "__Q:__ Use bootstrap sampling to estimate the same 95% confidence interval lower limit as before."
    },
    {
      "metadata": {},
      "cell_type": "markdown",
      "source": "__A:__"
    },
    {
      "metadata": {
        "trusted": true
      },
      "cell_type": "code",
      "source": "np.random.seed(47)\nN_rep = 10000\n\nbs_means = np.empty(N_rep)\n\nfor i in range(N_rep):\n    resampled = np.random.choice(med_charges['charges'], size=len(med_charges))\n    bs_means[i] = np.mean(resampled)\n\nnp.percentile(bs_means, 5)",
      "execution_count": 9,
      "outputs": [
        {
          "output_type": "execute_result",
          "execution_count": 9,
          "data": {
            "text/plain": "12724.467921704"
          },
          "metadata": {}
        }
      ]
    },
    {
      "metadata": {},
      "cell_type": "markdown",
      "source": "If you performed 10000 replicates immediately after setting the random seed to 47, you should get the value 12724 here, which compares very well with the value 12725 obtained using the _t_-distribution confidence interval previously. It is a most pleasant result to see the predictions of classical frequentist theory match with results that are now possible through the number-crunching ability of computers."
    },
    {
      "metadata": {},
      "cell_type": "markdown",
      "source": "Remember, in the previous mini-projects, we saw that there are two ways of performing a _t_-test from a sample, depending on whether we can assume the groups have equal variance or not. We can actually easily test this using the bootstrap approach!"
    },
    {
      "metadata": {},
      "cell_type": "markdown",
      "source": "__Q:__ Calculate the 95% confidence interval for the difference between the standard deviations of insurance and non-insurance claim charges (insured - non-insured). Calculate the differences over 10000 replicates. Plot the histogram of values and mark the locations of the percentiles. State the null and alternative hypothesis and comment on whether you would retain or reject the null hypothesis in this case and why."
    },
    {
      "metadata": {},
      "cell_type": "markdown",
      "source": "__A:__     H0 = There is no difference between the standard deviations of insured and uninsured  \n           H1 = There is a difference betweeen the standard deviations of insured and uninsured"
    },
    {
      "metadata": {
        "trusted": true
      },
      "cell_type": "code",
      "source": "np.random.seed(47)\ninsured_df = med_charges[med_charges['insuranceclaim'] == 1]['charges']\nuninsured_df = med_charges[med_charges['insuranceclaim'] == 0]['charges']\n\nbs_std_diff = np.empty(N_rep)\n\nfor i in range(N_rep):\n    insured_resampled = np.random.choice(insured_df, len(insured_df))\n    uninsured_resampled = np.random.choice(uninsured_df, len(uninsured_df))\n    bs_std_diff[i] = np.std(insured_resampled) - np.std(uninsured_resampled)\n \nc_i = np.percentile(bs_std_diff, [2.5, 97.5])\nc_i",
      "execution_count": 10,
      "outputs": [
        {
          "output_type": "execute_result",
          "execution_count": 10,
          "data": {
            "text/plain": "array([6681.572467  , 8502.74820416])"
          },
          "metadata": {}
        }
      ]
    },
    {
      "metadata": {
        "trusted": true
      },
      "cell_type": "code",
      "source": "_ = plt.hist(bs_std_diff, bins=30, edgecolor='white', normed=True)\n_ = plt.axvline(np.mean(bs_std_diff), color='r')\n_ = plt.axvline(c_i[0], linestyle='--', color='r')\n_ = plt.axvline(c_i[1], linestyle='--', color='r')",
      "execution_count": 11,
      "outputs": [
        {
          "output_type": "display_data",
          "data": {
            "image/png": "[encoded data removed]",
            "text/plain": "<matplotlib.figure.Figure at 0x7f4401adb898>"
          },
          "metadata": {}
        }
      ]
    },
    {
      "metadata": {},
      "cell_type": "markdown",
      "source": "Reject the Null Hypothesis, confidence interval does not contain 0."
    },
    {
      "metadata": {},
      "cell_type": "markdown",
      "source": "## Confidence interval and p-value"
    },
    {
      "metadata": {},
      "cell_type": "markdown",
      "source": "The confidence interval above is often a useful quantity to estimate. If we wish to limit our expected probability of making a Type I error (where we wrongly reject the null hypothesis, and it is, instead, true) to $\\alpha$, the associated confidence interval is our estimate of the interval within which we expect the true population value to be found $100\\times(1 - \\alpha)$% of the time we do this test. In the above we performed bootstrap replicates to estimate the interval and reject the null hypothesis if this interval did not contain zero. You will sometimes see such an interval reported in the output of statistical functions.\n\nThe partner of the confidence interval is the p-value. The p-value and the confidence interval are linked through our choice of $\\alpha$. The p-value tells us how likely it is, under the null hypothesis, to get an outcome at least as extreme as what was observed. If this fails to reach the level of our _pre-specified_ $\\alpha$, we decide the null hypothesis is sufficiently unlikely to be true and thus reject it. To calculate this p-value via the bootstrap, we have to put ourselves in a position where we are simulating the null hypothesis being true and then calculate the fraction of times we observe a result at least as extreme as that actually observed.\n\nRemember how, previously, you used the _t_-test to calculate the p-value for the observed difference between the means of insured and non-insured medical cases. We're now going to repeat this, this time using the bootstrap approach.\n\n__Q:__ Perform a bootstrapped hypothesis test at the 5% significance level ($\\alpha = 0.05$) to calculate the p-value of the observed difference between insurance and non-insurance charges, state your null and alternative hypotheses and whether you retain or reject the null hypothesis for the given significance level."
    },
    {
      "metadata": {},
      "cell_type": "markdown",
      "source": "__A:__     H0 = There is no difference in the mean charges between insured and uninsured  \n           H1 = There is a difference in the mean charges between insured and uninsured"
    },
    {
      "metadata": {
        "trusted": true
      },
      "cell_type": "code",
      "source": "insured_shifted = insured_df - np.mean(insured_df) + np.mean(med_charges.charges)\nuninsured_shifted = uninsured_df - np.mean(uninsured_df) + np.mean(med_charges.charges)\n\nobs_mean_diff = np.mean(insured_df) - np.mean(uninsured_df)\n\nbs_mean_diff = np.empty(N_rep)\nfor i in range(N_rep):\n    insured_resampled = np.random.choice(insured_shifted, len(insured_shifted))\n    uninsured_resampled = np.random.choice(uninsured_shifted, len(uninsured_shifted))\n    bs_mean_diff[i] = np.mean(insured_resampled) - np.mean(uninsured_resampled)\n",
      "execution_count": 12,
      "outputs": []
    },
    {
      "metadata": {
        "trusted": true
      },
      "cell_type": "code",
      "source": "p = np.sum(bs_mean_diff >= obs_mean_diff)/len(bs_mean_diff)\np",
      "execution_count": 13,
      "outputs": [
        {
          "output_type": "execute_result",
          "execution_count": 13,
          "data": {
            "text/plain": "0.0"
          },
          "metadata": {}
        }
      ]
    },
    {
      "metadata": {},
      "cell_type": "markdown",
      "source": "P-value of 0.0, reject the null hypothesis at 5% significance"
    },
    {
      "metadata": {},
      "cell_type": "markdown",
      "source": "__Q:__ To put the above result in perspective, plot the histogram of your bootstrapped differences along with lines marking the locations of the observed difference. (Why would we plot more than one line, given that we only have one observed difference?)"
    },
    {
      "metadata": {},
      "cell_type": "markdown",
      "source": "__A:__"
    },
    {
      "metadata": {
        "trusted": true
      },
      "cell_type": "code",
      "source": "_ = plt.hist(bs_mean_diff, bins=30, normed=True)\n_ = plt.axvline(obs_mean_diff, color='r', linestyle='--')\n_ = plt.xlabel('difference in means')\n_ = plt.ylabel('')",
      "execution_count": 14,
      "outputs": [
        {
          "output_type": "display_data",
          "data": {
            "image/png": "[encoded data removed]",
            "text/plain": "<matplotlib.figure.Figure at 0x7f4401a9e710>"
          },
          "metadata": {}
        }
      ]
    },
    {
      "metadata": {},
      "cell_type": "markdown",
      "source": "__Q:__ Compare your p-value above with that obtained using the _t_-test function in the previous assignment. Do you think you would want to try to perform enough bootstrap replicates to observe a random difference as large as that we did observe?"
    },
    {
      "metadata": {},
      "cell_type": "markdown",
      "source": "__A:__ No, because the p-value from the previous assignment is 1.11e-37, which is basically 0."
    },
    {
      "metadata": {},
      "cell_type": "markdown",
      "source": "__Q:__ Consider the two variants of the _t_-test we performed in the previous assignment. Which one would you use now?"
    },
    {
      "metadata": {},
      "cell_type": "markdown",
      "source": "__A:__ The t-test with unequal variances. "
    },
    {
      "metadata": {},
      "cell_type": "markdown",
      "source": "__Q:__ If, instead of being asked whether the means of two groups were different, you were working with an ad-recommender team who wanted to release a new recommendation algorithm, and you were looking at click-through rate both for the current algorithm (call it A) and from trials of their new algorithm (call it B), would you perform a two-sided test as above? What would be your null and alternative hypotheses and what would be the real-world consequence of rejecting the null hypothesis?"
    },
    {
      "metadata": {},
      "cell_type": "markdown",
      "source": "__A:__ No, I would perform a one-sided test.\n\nH0: Click rate is unchanged by the new algorithm  \nH1: Click rate is affected by the new algorithm\n\nIf no Type I error, implementing the new algorithm would generate more clicks. If Type I error, developing and implementing an ineffective algorithm is a waste of resources."
    },
    {
      "metadata": {},
      "cell_type": "markdown",
      "source": "# Learning outcomes\n\nYou've previously applied frequentist methods to calculate confidence intervals, p-values, and perform hypothesis tests. Frequentist methods use theoretical results to calculate what we expect would happen if experiments were to be run again and again and again. Now you've seen how you can do the same things using the bootstrap approach, which does not rely on such theory, and attendant assumptions, but instead literally does run experiments again and again and again.\n\nIn these exercises, you have:\n* calculated the same confidence interval lower limit as you did previously\n* tested the assumption that the variances of the two groups (insured vs. non-insured) were equal - something a bit harder to do using the frequentist method because of the nature of the sampling distribution for variance\n* calculated the p-value for the difference between the means of the two groups and compared with the result obtained using the previous frequentist approach\n\nYou are now well equipped to apply the bootstrap approach to a wide variety of problems. Just think about what conditions you wish to recreate in your simulated reruns."
    }
  ],
  "metadata": {
    "kernelspec": {
      "name": "python3",
      "display_name": "Python 3",
      "language": "python"
    },
    "language_info": {
      "mimetype": "text/x-python",
      "nbconvert_exporter": "python",
      "name": "python",
      "file_extension": ".py",
      "version": "3.5.4",
      "pygments_lexer": "ipython3",
      "codemirror_mode": {
        "version": 3,
        "name": "ipython"
      }
    }
  },
  "nbformat": 4,
  "nbformat_minor": 2
}